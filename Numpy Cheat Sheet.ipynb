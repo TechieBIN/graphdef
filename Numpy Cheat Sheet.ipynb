{
 "cells": [
  {
   "cell_type": "markdown",
   "metadata": {},
   "source": [
    "# Quick cheatsheet for Numpy"
   ]
  },
  {
   "cell_type": "code",
   "execution_count": 1,
   "metadata": {},
   "outputs": [],
   "source": [
    "#First Let's Import the panda library\n",
    "import numpy as np"
   ]
  },
  {
   "cell_type": "code",
   "execution_count": 2,
   "metadata": {},
   "outputs": [],
   "source": [
    "mList = [9,8,7,6,5]"
   ]
  },
  {
   "cell_type": "code",
   "execution_count": 4,
   "metadata": {},
   "outputs": [
    {
     "data": {
      "text/plain": [
       "[9, 8, 7, 6, 5]"
      ]
     },
     "execution_count": 4,
     "metadata": {},
     "output_type": "execute_result"
    }
   ],
   "source": [
    "mList"
   ]
  },
  {
   "cell_type": "code",
   "execution_count": 5,
   "metadata": {},
   "outputs": [],
   "source": [
    "# To convert list to array\n",
    "mArr = np.array(mList)"
   ]
  },
  {
   "cell_type": "code",
   "execution_count": 6,
   "metadata": {},
   "outputs": [
    {
     "data": {
      "text/plain": [
       "numpy.ndarray"
      ]
     },
     "execution_count": 6,
     "metadata": {},
     "output_type": "execute_result"
    }
   ],
   "source": [
    "type(mArr)"
   ]
  },
  {
   "cell_type": "code",
   "execution_count": 7,
   "metadata": {},
   "outputs": [
    {
     "data": {
      "text/plain": [
       "array([9, 8, 7, 6, 5])"
      ]
     },
     "execution_count": 7,
     "metadata": {},
     "output_type": "execute_result"
    }
   ],
   "source": [
    "mArr"
   ]
  },
  {
   "cell_type": "code",
   "execution_count": 11,
   "metadata": {},
   "outputs": [
    {
     "data": {
      "text/plain": [
       "array([10, 11, 12, 13, 14, 15, 16, 17, 18, 19, 20, 21, 22, 23, 24, 25, 26,\n",
       "       27, 28, 29, 30, 31, 32, 33, 34, 35, 36, 37, 38, 39, 40, 41, 42, 43,\n",
       "       44, 45, 46, 47, 48, 49])"
      ]
     },
     "execution_count": 11,
     "metadata": {},
     "output_type": "execute_result"
    }
   ],
   "source": [
    "#To generate an array of numbers between a range\n",
    "mArr = np.arange(10,50)\n",
    "mArr"
   ]
  },
  {
   "cell_type": "code",
   "execution_count": 12,
   "metadata": {},
   "outputs": [
    {
     "data": {
      "text/plain": [
       "array([10, 15, 20, 25, 30, 35, 40, 45])"
      ]
     },
     "execution_count": 12,
     "metadata": {},
     "output_type": "execute_result"
    }
   ],
   "source": [
    "#To generate an array with a specific \n",
    "mArr = np.arange(10,50,5)\n",
    "mArr"
   ]
  },
  {
   "cell_type": "code",
   "execution_count": 13,
   "metadata": {},
   "outputs": [
    {
     "data": {
      "text/plain": [
       "array([[0., 0., 0., 0., 0.],\n",
       "       [0., 0., 0., 0., 0.],\n",
       "       [0., 0., 0., 0., 0.],\n",
       "       [0., 0., 0., 0., 0.]])"
      ]
     },
     "execution_count": 13,
     "metadata": {},
     "output_type": "execute_result"
    }
   ],
   "source": [
    "#To generate a 2 dimensional array with 4 rows and 5 columns, with zero as value\n",
    "mArr = np.zeros((4,5))\n",
    "mArr"
   ]
  },
  {
   "cell_type": "code",
   "execution_count": 14,
   "metadata": {},
   "outputs": [
    {
     "data": {
      "text/plain": [
       "array([[1., 1., 1., 1., 1.],\n",
       "       [1., 1., 1., 1., 1.],\n",
       "       [1., 1., 1., 1., 1.],\n",
       "       [1., 1., 1., 1., 1.]])"
      ]
     },
     "execution_count": 14,
     "metadata": {},
     "output_type": "execute_result"
    }
   ],
   "source": [
    "#To generate a 2 dimensional array with 4 rows and 5 columns, with one as value\n",
    "mArr = np.ones((4,5))\n",
    "mArr"
   ]
  },
  {
   "cell_type": "code",
   "execution_count": 19,
   "metadata": {},
   "outputs": [
    {
     "data": {
      "text/plain": [
       "17"
      ]
     },
     "execution_count": 19,
     "metadata": {},
     "output_type": "execute_result"
    }
   ],
   "source": [
    "#To generate random integer limit, the first argument is the \n",
    "#lower limit and the second one is upper limit\n",
    "np.random.randint(10,50)"
   ]
  },
  {
   "cell_type": "code",
   "execution_count": 20,
   "metadata": {},
   "outputs": [
    {
     "data": {
      "text/plain": [
       "array([[14, 28, 17, 31, 11],\n",
       "       [42, 45, 20, 11, 18],\n",
       "       [19, 40, 28, 29, 21],\n",
       "       [19, 49, 42, 29, 15]])"
      ]
     },
     "execution_count": 20,
     "metadata": {},
     "output_type": "execute_result"
    }
   ],
   "source": [
    "# Okay, now let's generate a 2 dimensional array with random numbers, add a third arguement with the\n",
    "#size of the array\n",
    "np.random.randint(10,50,(4,5))\n",
    "\n"
   ]
  },
  {
   "cell_type": "code",
   "execution_count": 22,
   "metadata": {},
   "outputs": [
    {
     "data": {
      "text/plain": [
       "array([10.        , 10.81632653, 11.63265306, 12.44897959, 13.26530612,\n",
       "       14.08163265, 14.89795918, 15.71428571, 16.53061224, 17.34693878,\n",
       "       18.16326531, 18.97959184, 19.79591837, 20.6122449 , 21.42857143,\n",
       "       22.24489796, 23.06122449, 23.87755102, 24.69387755, 25.51020408,\n",
       "       26.32653061, 27.14285714, 27.95918367, 28.7755102 , 29.59183673,\n",
       "       30.40816327, 31.2244898 , 32.04081633, 32.85714286, 33.67346939,\n",
       "       34.48979592, 35.30612245, 36.12244898, 36.93877551, 37.75510204,\n",
       "       38.57142857, 39.3877551 , 40.20408163, 41.02040816, 41.83673469,\n",
       "       42.65306122, 43.46938776, 44.28571429, 45.10204082, 45.91836735,\n",
       "       46.73469388, 47.55102041, 48.36734694, 49.18367347, 50.        ])"
      ]
     },
     "execution_count": 22,
     "metadata": {},
     "output_type": "execute_result"
    }
   ],
   "source": [
    "# Say you want to generate linearily spaced number between a range\n",
    "# First arguement is the lower limit, second one is upper limit, and the last one \n",
    "#is the number of numbers to be returned. \n",
    "np.linspace(10,50,50)\n",
    "\n"
   ]
  },
  {
   "cell_type": "markdown",
   "metadata": {},
   "source": [
    "https://stackoverflow.com/questions/21494489/what-does-numpy-random-seed0-do"
   ]
  },
  {
   "cell_type": "code",
   "execution_count": 35,
   "metadata": {},
   "outputs": [],
   "source": [
    "#np.random.seed(0) makes the random numbers predictable\n",
    "\n",
    "np.random.seed(50)"
   ]
  },
  {
   "cell_type": "code",
   "execution_count": 37,
   "metadata": {},
   "outputs": [
    {
     "data": {
      "text/plain": [
       "array([16, 30, 41, 31, 10, 16, 29, 12, 25, 40, 45, 36, 12, 22, 42, 13, 12,\n",
       "       20, 10, 39])"
      ]
     },
     "execution_count": 37,
     "metadata": {},
     "output_type": "execute_result"
    }
   ],
   "source": [
    "mArr=np.random.randint(10,50,20)\n",
    "mArr"
   ]
  },
  {
   "cell_type": "code",
   "execution_count": 39,
   "metadata": {},
   "outputs": [
    {
     "data": {
      "text/plain": [
       "45"
      ]
     },
     "execution_count": 39,
     "metadata": {},
     "output_type": "execute_result"
    }
   ],
   "source": [
    "#Max, Min, Mean,\n",
    "mArr.max()"
   ]
  },
  {
   "cell_type": "code",
   "execution_count": 40,
   "metadata": {},
   "outputs": [
    {
     "data": {
      "text/plain": [
       "10"
      ]
     },
     "execution_count": 40,
     "metadata": {},
     "output_type": "execute_result"
    }
   ],
   "source": [
    "mArr.min()"
   ]
  },
  {
   "cell_type": "code",
   "execution_count": 41,
   "metadata": {},
   "outputs": [
    {
     "data": {
      "text/plain": [
       "25.05"
      ]
     },
     "execution_count": 41,
     "metadata": {},
     "output_type": "execute_result"
    }
   ],
   "source": [
    "mArr.mean()"
   ]
  },
  {
   "cell_type": "code",
   "execution_count": 43,
   "metadata": {},
   "outputs": [
    {
     "data": {
      "text/plain": [
       "10"
      ]
     },
     "execution_count": 43,
     "metadata": {},
     "output_type": "execute_result"
    }
   ],
   "source": [
    "#argmax returns the position of the largest value. max returns the largest value.\n",
    "# in our case number 45 is in the 10th position\n",
    "mArr.argmax()"
   ]
  },
  {
   "cell_type": "code",
   "execution_count": 45,
   "metadata": {},
   "outputs": [
    {
     "data": {
      "text/plain": [
       "array([[14, 21, 29, 24, 13, 38, 14, 37, 46, 17],\n",
       "       [23, 31, 38, 31, 24, 23, 45, 16, 22, 10],\n",
       "       [10, 18, 42, 24, 14, 42, 17, 46, 35, 21],\n",
       "       [36, 42, 33, 48, 13, 38, 15, 38, 11, 45],\n",
       "       [13, 10, 22, 47, 22, 42, 31, 24, 29, 26],\n",
       "       [43, 29, 42, 14, 25, 28, 41, 32, 12, 15],\n",
       "       [11, 43, 35, 20, 28, 18, 24, 27, 25, 38],\n",
       "       [43, 33, 49, 32, 30, 38, 29, 29, 46, 15],\n",
       "       [10, 49, 49, 37, 34, 12, 20, 19, 16, 47],\n",
       "       [28, 47, 20, 47, 25, 23, 31, 17, 48, 10]])"
      ]
     },
     "execution_count": 45,
     "metadata": {},
     "output_type": "execute_result"
    }
   ],
   "source": [
    "# To generate random numbers and form a matrix\n",
    "mArr=np.random.randint(10,50,100).reshape(10,10)\n",
    "mArr"
   ]
  },
  {
   "cell_type": "code",
   "execution_count": 49,
   "metadata": {},
   "outputs": [
    {
     "data": {
      "text/plain": [
       "array([[False, False, False, False, False, False, False, False,  True,\n",
       "        False],\n",
       "       [False, False, False, False, False, False,  True, False, False,\n",
       "        False],\n",
       "       [False, False,  True, False, False,  True, False,  True, False,\n",
       "        False],\n",
       "       [False,  True, False,  True, False, False, False, False, False,\n",
       "         True],\n",
       "       [False, False, False,  True, False,  True, False, False, False,\n",
       "        False],\n",
       "       [ True, False,  True, False, False, False,  True, False, False,\n",
       "        False],\n",
       "       [False,  True, False, False, False, False, False, False, False,\n",
       "        False],\n",
       "       [ True, False,  True, False, False, False, False, False,  True,\n",
       "        False],\n",
       "       [False,  True,  True, False, False, False, False, False, False,\n",
       "         True],\n",
       "       [False,  True, False,  True, False, False, False, False,  True,\n",
       "        False]])"
      ]
     },
     "execution_count": 49,
     "metadata": {},
     "output_type": "execute_result"
    }
   ],
   "source": [
    "# Let's check all the numbers in the matrix against a condition, quick\n",
    "# and easy\n",
    "mArr > 40"
   ]
  },
  {
   "cell_type": "code",
   "execution_count": 51,
   "metadata": {},
   "outputs": [
    {
     "data": {
      "text/plain": [
       "array([46, 45, 42, 42, 46, 42, 48, 45, 47, 42, 43, 42, 41, 43, 43, 49, 46,\n",
       "       49, 49, 47, 47, 47, 48])"
      ]
     },
     "execution_count": 51,
     "metadata": {},
     "output_type": "execute_result"
    }
   ],
   "source": [
    "# From the above matrix let's select all the numbers that are greater than 40\n",
    "mArr[mArr > 40]"
   ]
  },
  {
   "cell_type": "code",
   "execution_count": null,
   "metadata": {},
   "outputs": [],
   "source": []
  }
 ],
 "metadata": {
  "kernelspec": {
   "display_name": "Python 3",
   "language": "python",
   "name": "python3"
  },
  "language_info": {
   "codemirror_mode": {
    "name": "ipython",
    "version": 3
   },
   "file_extension": ".py",
   "mimetype": "text/x-python",
   "name": "python",
   "nbconvert_exporter": "python",
   "pygments_lexer": "ipython3",
   "version": "3.6.4"
  }
 },
 "nbformat": 4,
 "nbformat_minor": 2
}
