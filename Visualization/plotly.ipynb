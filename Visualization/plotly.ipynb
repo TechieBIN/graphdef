{
 "cells": [
  {
   "cell_type": "code",
   "execution_count": 1,
   "metadata": {
    "collapsed": true
   },
   "outputs": [],
   "source": [
    "import numpy as np\n",
    "import plotly.offline as pof\n",
    "import plotly.graph_objs as go\n",
    "import pandas as pd"
   ]
  },
  {
   "cell_type": "code",
   "execution_count": 8,
   "metadata": {},
   "outputs": [],
   "source": [
    "df = pd.read_csv('https://raw.githubusercontent.com/TechieBIN/graphdef/master/Data/nst-est2017-alldata.csv')"
   ]
  },
  {
   "cell_type": "code",
   "execution_count": 7,
   "metadata": {
    "collapsed": false
   },
   "outputs": [
    {
     "data": {
      "text/plain": [
       "Index(['SUMLEV', 'REGION', 'DIVISION', 'STATE', 'NAME', 'CENSUS2010POP',\n       'ESTIMATESBASE2010', 'POPESTIMATE2010', 'POPESTIMATE2011',\n       'POPESTIMATE2012',\n       ...\n       'RDOMESTICMIG2015', 'RDOMESTICMIG2016', 'RDOMESTICMIG2017',\n       'RNETMIG2011', 'RNETMIG2012', 'RNETMIG2013', 'RNETMIG2014',\n       'RNETMIG2015', 'RNETMIG2016', 'RNETMIG2017'],\n      dtype='object', length=121)"
      ]
     },
     "execution_count": 7,
     "metadata": {},
     "output_type": "execute_result"
    }
   ],
   "source": [
    "df.columns"
   ]
  },
  {
   "cell_type": "code",
   "execution_count": 9,
   "metadata": {},
   "outputs": [],
   "source": [
    "df2 = df[ df['DIVISION'] == '1']"
   ]
  },
  {
   "cell_type": "code",
   "execution_count": 11,
   "metadata": {},
   "outputs": [
    {
     "name": "stdout",
     "output_type": "stream",
     "text": [
      "    SUMLEV REGION DIVISION  STATE           NAME  CENSUS2010POP  \\\n11    40.0      1        1    9.0    Connecticut      3574097.0   \n24    40.0      1        1   23.0          Maine      1328361.0   \n26    40.0      1        1   25.0  Massachusetts      6547629.0   \n34    40.0      1        1   33.0  New Hampshire      1316470.0   \n44    40.0      1        1   44.0   Rhode Island      1052567.0   \n50    40.0      1        1   50.0        Vermont       625741.0   \n\n    ESTIMATESBASE2010  POPESTIMATE2010  POPESTIMATE2011  POPESTIMATE2012  \\\n11          3574114.0        3580171.0        3591927.0        3597705.0   \n24          1328362.0        1327568.0        1327968.0        1328101.0   \n26          6547808.0        6564943.0        6612178.0        6659627.0   \n34          1316460.0        1316700.0        1318345.0        1320923.0   \n44          1052945.0        1053169.0        1052154.0        1052761.0   \n50           625741.0         625842.0         626210.0         625606.0   \n\n       ...       RDOMESTICMIG2015  RDOMESTICMIG2016  RDOMESTICMIG2017  \\\n11     ...              -8.376089         -8.106331         -6.206914   \n24     ...              -0.781424          1.807361          4.032798   \n26     ...              -3.270088         -4.423353         -3.374712   \n34     ...              -0.850002          1.333509          3.500622   \n44     ...              -4.218510         -4.093718         -3.640649   \n50     ...              -3.415672         -3.615938         -1.472321   \n\n    RNETMIG2011  RNETMIG2012  RNETMIG2013  RNETMIG2014  RNETMIG2015  \\\n11     0.993851    -0.542726    -0.420268    -2.479362    -3.464252   \n24     0.685361     0.178459     0.392308     1.301528     0.389959   \n26     4.364383     4.266338     5.211370     4.538697     3.276287   \n34    -0.403029     0.632751     0.061281     3.793602     0.852258   \n44    -2.170688    -0.991964    -1.139847     1.029624     0.368598   \n50    -0.333852    -1.915617     0.131027    -1.313404    -1.932614   \n\n    RNETMIG2016  RNETMIG2017  \n11    -3.112421    -1.257548  \n24     3.000731     5.216532  \n26     2.261905     3.246090  \n34     3.037729     5.170643  \n44     0.526146     0.891742  \n50    -2.115708     0.024058  \n\n[6 rows x 121 columns]\n"
     ]
    }
   ],
   "source": [
    "print(df2)"
   ]
  },
  {
   "cell_type": "code",
   "execution_count": 12,
   "metadata": {},
   "outputs": [],
   "source": [
    "df2.set_index('NAME',inplace=True)"
   ]
  },
  {
   "cell_type": "code",
   "execution_count": 13,
   "metadata": {},
   "outputs": [
    {
     "name": "stdout",
     "output_type": "stream",
     "text": [
      "               SUMLEV REGION DIVISION  STATE  CENSUS2010POP  \\\nNAME                                                          \nConnecticut      40.0      1        1    9.0      3574097.0   \nMaine            40.0      1        1   23.0      1328361.0   \nMassachusetts    40.0      1        1   25.0      6547629.0   \nNew Hampshire    40.0      1        1   33.0      1316470.0   \nRhode Island     40.0      1        1   44.0      1052567.0   \nVermont          40.0      1        1   50.0       625741.0   \n\n               ESTIMATESBASE2010  POPESTIMATE2010  POPESTIMATE2011  \\\nNAME                                                                 \nConnecticut            3574114.0        3580171.0        3591927.0   \nMaine                  1328362.0        1327568.0        1327968.0   \nMassachusetts          6547808.0        6564943.0        6612178.0   \nNew Hampshire          1316460.0        1316700.0        1318345.0   \nRhode Island           1052945.0        1053169.0        1052154.0   \nVermont                 625741.0         625842.0         626210.0   \n\n               POPESTIMATE2012  POPESTIMATE2013     ...       \\\nNAME                                                ...        \nConnecticut          3597705.0        3602470.0     ...        \nMaine                1328101.0        1327975.0     ...        \nMassachusetts        6659627.0        6711138.0     ...        \nNew Hampshire        1320923.0        1322622.0     ...        \nRhode Island         1052761.0        1052784.0     ...        \nVermont               625606.0         626044.0     ...        \n\n               RDOMESTICMIG2015  RDOMESTICMIG2016  RDOMESTICMIG2017  \\\nNAME                                                                  \nConnecticut           -8.376089         -8.106331         -6.206914   \nMaine                 -0.781424          1.807361          4.032798   \nMassachusetts         -3.270088         -4.423353         -3.374712   \nNew Hampshire         -0.850002          1.333509          3.500622   \nRhode Island          -4.218510         -4.093718         -3.640649   \nVermont               -3.415672         -3.615938         -1.472321   \n\n               RNETMIG2011  RNETMIG2012  RNETMIG2013  RNETMIG2014  \\\nNAME                                                                \nConnecticut       0.993851    -0.542726    -0.420268    -2.479362   \nMaine             0.685361     0.178459     0.392308     1.301528   \nMassachusetts     4.364383     4.266338     5.211370     4.538697   \nNew Hampshire    -0.403029     0.632751     0.061281     3.793602   \nRhode Island     -2.170688    -0.991964    -1.139847     1.029624   \nVermont          -0.333852    -1.915617     0.131027    -1.313404   \n\n               RNETMIG2015  RNETMIG2016  RNETMIG2017  \nNAME                                                  \nConnecticut      -3.464252    -3.112421    -1.257548  \nMaine             0.389959     3.000731     5.216532  \nMassachusetts     3.276287     2.261905     3.246090  \nNew Hampshire     0.852258     3.037729     5.170643  \nRhode Island      0.368598     0.526146     0.891742  \nVermont          -1.932614    -2.115708     0.024058  \n\n[6 rows x 120 columns]\n"
     ]
    }
   ],
   "source": [
    "print(df2)"
   ]
  },
  {
   "cell_type": "code",
   "execution_count": 14,
   "metadata": {},
   "outputs": [],
   "source": [
    "df = pd.read_csv('https://raw.githubusercontent.com/TechieBIN/graphdef/master/Data/2010YumaAZ.csv')"
   ]
  },
  {
   "cell_type": "code",
   "execution_count": 15,
   "metadata": {},
   "outputs": [
    {
     "name": "stdout",
     "output_type": "stream",
     "text": [
      "     LST_DATE        DAY LST_TIME  T_HR_AVG\n0    20100601    TUESDAY     0:00      25.2\n1    20100601    TUESDAY     1:00      24.1\n2    20100601    TUESDAY     2:00      24.4\n3    20100601    TUESDAY     3:00      24.9\n4    20100601    TUESDAY     4:00      22.8\n5    20100601    TUESDAY     5:00      19.8\n6    20100601    TUESDAY     6:00      18.8\n7    20100601    TUESDAY     7:00      21.2\n8    20100601    TUESDAY     8:00      24.2\n9    20100601    TUESDAY     9:00      27.1\n10   20100601    TUESDAY    10:00      29.3\n11   20100601    TUESDAY    11:00      30.6\n12   20100601    TUESDAY    12:00      32.6\n13   20100601    TUESDAY    13:00      34.0\n14   20100601    TUESDAY    14:00      34.0\n15   20100601    TUESDAY    15:00      34.9\n16   20100601    TUESDAY    16:00      34.6\n17   20100601    TUESDAY    17:00      33.8\n18   20100601    TUESDAY    18:00      33.5\n19   20100601    TUESDAY    19:00      32.8\n20   20100601    TUESDAY    20:00      31.0\n21   20100601    TUESDAY    21:00      29.0\n22   20100601    TUESDAY    22:00      27.6\n23   20100601    TUESDAY    23:00      26.3\n24   20100602  WEDNESDAY     0:00      23.8\n25   20100602  WEDNESDAY     1:00      20.6\n26   20100602  WEDNESDAY     2:00      19.1\n27   20100602  WEDNESDAY     3:00      18.4\n28   20100602  WEDNESDAY     4:00      18.9\n29   20100602  WEDNESDAY     5:00      18.2\n..        ...        ...      ...       ...\n138  20100606     SUNDAY    18:00      40.3\n139  20100606     SUNDAY    19:00      39.5\n140  20100606     SUNDAY    20:00      37.9\n141  20100606     SUNDAY    21:00      36.5\n142  20100606     SUNDAY    22:00      35.0\n143  20100606     SUNDAY    23:00      32.9\n144  20100607     MONDAY     0:00      30.9\n145  20100607     MONDAY     1:00      28.7\n146  20100607     MONDAY     2:00      26.9\n147  20100607     MONDAY     3:00      25.2\n148  20100607     MONDAY     4:00      24.1\n149  20100607     MONDAY     5:00      24.3\n150  20100607     MONDAY     6:00      23.4\n151  20100607     MONDAY     7:00      25.7\n152  20100607     MONDAY     8:00      28.5\n153  20100607     MONDAY     9:00      30.7\n154  20100607     MONDAY    10:00      32.5\n155  20100607     MONDAY    11:00      34.1\n156  20100607     MONDAY    12:00      36.1\n157  20100607     MONDAY    13:00      37.6\n158  20100607     MONDAY    14:00      39.0\n159  20100607     MONDAY    15:00      40.2\n160  20100607     MONDAY    16:00      40.3\n161  20100607     MONDAY    17:00      40.2\n162  20100607     MONDAY    18:00      40.1\n163  20100607     MONDAY    19:00      39.4\n164  20100607     MONDAY    20:00      38.5\n165  20100607     MONDAY    21:00      37.0\n166  20100607     MONDAY    22:00      34.7\n167  20100607     MONDAY    23:00      32.6\n\n[168 rows x 4 columns]\n"
     ]
    }
   ],
   "source": [
    "\n",
    "print(df)"
   ]
  },
  {
   "cell_type": "code",
   "execution_count": null,
   "metadata": {},
   "outputs": [],
   "source": []
  }
 ],
 "metadata": {
  "kernelspec": {
   "display_name": "Python 2",
   "language": "python",
   "name": "python2"
  },
  "language_info": {
   "codemirror_mode": {
    "name": "ipython",
    "version": 2
   },
   "file_extension": ".py",
   "mimetype": "text/x-python",
   "name": "python",
   "nbconvert_exporter": "python",
   "pygments_lexer": "ipython2",
   "version": "2.7.6"
  }
 },
 "nbformat": 4,
 "nbformat_minor": 0
}
